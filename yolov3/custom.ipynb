{
 "cells": [
  {
   "cell_type": "code",
   "execution_count": 1,
   "metadata": {},
   "outputs": [
    {
     "name": "stdout",
     "output_type": "stream",
     "text": [
      "324 324\n"
     ]
    }
   ],
   "source": [
    "from glob import glob\n",
    "img_list = glob('/home/seokwon/dev_ws/yolov3/yolov3/mydata/images/*.jpg')\n",
    "label_list = glob('/home/seokwon/dev_ws/yolov3/yolov3/mydata/labels/*.txt')\n",
    "print(len(img_list), len(label_list))"
   ]
  },
  {
   "cell_type": "code",
   "execution_count": 2,
   "metadata": {},
   "outputs": [
    {
     "name": "stdout",
     "output_type": "stream",
     "text": [
      "226 98\n"
     ]
    }
   ],
   "source": [
    "from sklearn.model_selection import train_test_split\n",
    "\n",
    "train_img_list, val_img_list = train_test_split(img_list, test_size = 0.3,\n",
    "random_state = 200)\n",
    "\n",
    "print(len(train_img_list), len(val_img_list))"
   ]
  },
  {
   "cell_type": "code",
   "execution_count": 4,
   "metadata": {},
   "outputs": [],
   "source": [
    "with open('/home/seokwon/dev_ws/yolov3/yolov3/train.txt','w') as f:\n",
    "\tf.write('\\n'.join(train_img_list)+'\\n')\n",
    "\n",
    "with open('/home/seokwon/dev_ws/yolov3/yolov3/val.txt', 'w') as f:\n",
    "\tf.write('\\n'.join(val_img_list)+'\\n')"
   ]
  },
  {
   "cell_type": "code",
   "execution_count": null,
   "metadata": {},
   "outputs": [],
   "source": []
  }
 ],
 "metadata": {
  "kernelspec": {
   "display_name": "yolo",
   "language": "python",
   "name": "python3"
  },
  "language_info": {
   "codemirror_mode": {
    "name": "ipython",
    "version": 3
   },
   "file_extension": ".py",
   "mimetype": "text/x-python",
   "name": "python",
   "nbconvert_exporter": "python",
   "pygments_lexer": "ipython3",
   "version": "3.10.12"
  },
  "orig_nbformat": 4
 },
 "nbformat": 4,
 "nbformat_minor": 2
}
